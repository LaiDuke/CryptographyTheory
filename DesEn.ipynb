{
 "cells": [
  {
   "cell_type": "code",
   "execution_count": 1,
   "metadata": {},
   "outputs": [],
   "source": [
    "# Table of Position of 64 bits at init level: Initial Permutation Table\n",
    "init_P = [58, 50, 42, 34, 26, 18, 10, 2,\n",
    "          60, 52, 44, 36, 28, 20, 12, 4,\n",
    "          62, 54, 46, 38, 30, 22, 14, 6,\n",
    "          64, 56, 48, 40, 32, 24, 16, 8,\n",
    "          57, 49, 41, 33, 25, 17, 9, 1,\n",
    "          59, 51, 43, 35, 27, 19, 11, 3,\n",
    "          61, 53, 45, 37, 29, 21, 13, 5,\n",
    "          63, 55, 47, 39, 31, 23, 15, 7]\n",
    "# Expansion D-box Table\n",
    "exp_D = [32, 1, 2, 3, 4, 5, 4, 5,\n",
    "         6, 7, 8, 9, 8, 9, 10, 11,\n",
    "         12, 13, 12, 13, 14, 15, 16, 17,\n",
    "         16, 17, 18, 19, 20, 21, 20, 21,\n",
    "         22, 23, 24, 25, 24, 25, 26, 27,\n",
    "         28, 29, 28, 29, 30, 31, 32, 1]\n",
    "# Straight Permutation Table\n",
    "P = [16, 7, 20, 21,\n",
    "     29, 12, 28, 17,\n",
    "     1, 15, 23, 26,\n",
    "     5, 18, 31, 10,\n",
    "     2, 8, 24, 14,\n",
    "     32, 27, 3, 9,\n",
    "     19, 13, 30, 6,\n",
    "     22, 11, 4, 25]\n",
    "# S-box Table\n",
    "s_boxes = [\n",
    "    [[14, 4, 13, 1, 2, 15, 11, 8, 3, 10, 6, 12, 5, 9, 0, 7],\n",
    "         [0, 15, 7, 4, 14, 2, 13, 1, 10, 6, 12, 11, 9, 5, 3, 8],\n",
    "         [4, 1, 14, 8, 13, 6, 2, 11, 15, 12, 9, 7, 3, 10, 5, 0],\n",
    "         [15, 12, 8, 2, 4, 9, 1, 7, 5, 11, 3, 14, 10, 0, 6, 13]],\n",
    "\n",
    "    [[15, 1, 8, 14, 6, 11, 3, 4, 9, 7, 2, 13, 12, 0, 5, 10],\n",
    "         [3, 13, 4, 7, 15, 2, 8, 14, 12, 0, 1, 10, 6, 9, 11, 5],\n",
    "         [0, 14, 7, 11, 10, 4, 13, 1, 5, 8, 12, 6, 9, 3, 2, 15],\n",
    "         [13, 8, 10, 1, 3, 15, 4, 2, 11, 6, 7, 12, 0, 5, 14, 9]],\n",
    "\n",
    "    [[10, 0, 9, 14, 6, 3, 15, 5, 1, 13, 12, 7, 11, 4, 2, 8],\n",
    "         [13, 7, 0, 9, 3, 4, 6, 10, 2, 8, 5, 14, 12, 11, 15, 1],\n",
    "         [13, 6, 4, 9, 8, 15, 3, 0, 11, 1, 2, 12, 5, 10, 14, 7],\n",
    "         [1, 10, 13, 0, 6, 9, 8, 7, 4, 15, 14, 3, 11, 5, 2, 12]],\n",
    "\n",
    "    [[7, 13, 14, 3, 0, 6, 9, 10, 1, 2, 8, 5, 11, 12, 4, 15],\n",
    "         [13, 8, 11, 5, 6, 15, 0, 3, 4, 7, 2, 12, 1, 10, 14, 9],\n",
    "         [10, 6, 9, 0, 12, 11, 7, 13, 15, 1, 3, 14, 5, 2, 8, 4],\n",
    "         [3, 15, 0, 6, 10, 1, 13, 8, 9, 4, 5, 11, 12, 7, 2, 14]],\n",
    "\n",
    "    [[2, 12, 4, 1, 7, 10, 11, 6, 8, 5, 3, 15, 13, 0, 14, 9],\n",
    "         [14, 11, 2, 12, 4, 7, 13, 1, 5, 0, 15, 10, 3, 9, 8, 6],\n",
    "         [4, 2, 1, 11, 10, 13, 7, 8, 15, 9, 12, 5, 6, 3, 0, 14],\n",
    "         [11, 8, 12, 7, 1, 14, 2, 13, 6, 15, 0, 9, 10, 4, 5, 3]],\n",
    "\n",
    "    [[12, 1, 10, 15, 9, 2, 6, 8, 0, 13, 3, 4, 14, 7, 5, 11],\n",
    "         [10, 15, 4, 2, 7, 12, 9, 5, 6, 1, 13, 14, 0, 11, 3, 8],\n",
    "         [9, 14, 15, 5, 2, 8, 12, 3, 7, 0, 4, 10, 1, 13, 11, 6],\n",
    "         [4, 3, 2, 12, 9, 5, 15, 10, 11, 14, 1, 7, 6, 0, 8, 13]],\n",
    "\n",
    "    [[4, 11, 2, 14, 15, 0, 8, 13, 3, 12, 9, 7, 5, 10, 6, 1],\n",
    "         [13, 0, 11, 7, 4, 9, 1, 10, 14, 3, 5, 12, 2, 15, 8, 6],\n",
    "         [1, 4, 11, 13, 12, 3, 7, 14, 10, 15, 6, 8, 0, 5, 9, 2],\n",
    "         [6, 11, 13, 8, 1, 4, 10, 7, 9, 5, 0, 15, 14, 2, 3, 12]],\n",
    "\n",
    "    [[13, 2, 8, 4, 6, 15, 11, 1, 10, 9, 3, 14, 5, 0, 12, 7],\n",
    "         [1, 15, 13, 8, 10, 3, 7, 4, 12, 5, 6, 11, 0, 14, 9, 2],\n",
    "         [7, 11, 4, 1, 9, 12, 14, 2, 0, 6, 10, 13, 15, 3, 5, 8],\n",
    "         [2, 1, 14, 7, 4, 10, 8, 13, 15, 12, 9, 0, 3, 5, 6, 11]]\n",
    "]\n",
    "# Final Permutation Table\n",
    "final_P = [40, 8, 48, 16, 56, 24, 64, 32,\n",
    "           39, 7, 47, 15, 55, 23, 63, 31,\n",
    "           38, 6, 46, 14, 54, 22, 62, 30,\n",
    "           37, 5, 45, 13, 53, 21, 61, 29,\n",
    "           36, 4, 44, 12, 52, 20, 60, 28,\n",
    "           35, 3, 43, 11, 51, 19, 59, 27,\n",
    "           34, 2, 42, 10, 50, 18, 58, 26,\n",
    "           33, 1, 41, 9, 49, 17, 57, 25]\n",
    "#PC-1 Permutation Table\n",
    "PC_1 = [57, 49, 41, 33, 25, 17, 9,\n",
    "        1, 58, 50, 42, 34, 26, 18,\n",
    "        10, 2, 59, 51, 43, 35, 27,\n",
    "        19, 11, 3, 60, 52, 44, 36,\n",
    "        63, 55, 47, 39, 31, 23, 15,\n",
    "        7, 62, 54, 46, 38, 30, 22,\n",
    "        14, 6, 61, 53, 45, 37, 29,\n",
    "        21, 13, 5, 28, 20, 12, 4]\n",
    "#shift Table\n",
    "shift_table = [1, 1, 2, 2,\n",
    "               2, 2, 2, 2,\n",
    "               1, 2, 2, 2,\n",
    "               2, 2, 2, 1]\n",
    "#PC-1 Permutation Table\n",
    "PC_2 = [14, 17, 11, 24, 1, 5,\n",
    "        3, 28, 15, 6, 21, 10,\n",
    "        23, 19, 12, 4, 26, 8,\n",
    "        16, 7, 27, 20, 13, 2,\n",
    "        41, 52, 31, 37, 47, 55,\n",
    "        30, 40, 51, 45, 33, 48,\n",
    "        44, 49, 39, 56, 34, 53,\n",
    "        46, 42, 50, 36, 29, 32]"
   ]
  },
  {
   "cell_type": "code",
   "execution_count": 2,
   "metadata": {},
   "outputs": [],
   "source": [
    "# Hexadecimal to binary conversion\n",
    "def hex2bin(hex):\n",
    "    mp = {'0': \"0000\",\n",
    "          '1': \"0001\",\n",
    "          '2': \"0010\",\n",
    "          '3': \"0011\",\n",
    "          '4': \"0100\",\n",
    "          '5': \"0101\",\n",
    "          '6': \"0110\",\n",
    "          '7': \"0111\",\n",
    "          '8': \"1000\",\n",
    "          '9': \"1001\",\n",
    "          'A': \"1010\",\n",
    "          'B': \"1011\",\n",
    "          'C': \"1100\",\n",
    "          'D': \"1101\",\n",
    "          'E': \"1110\",\n",
    "          'F': \"1111\"}\n",
    "    bin = \"\"\n",
    "    for i in range(len(hex)):\n",
    "        bin = bin + mp[hex[i]]\n",
    "    return bin\n",
    "# Binary to hexadecimal conversion\n",
    "def bin2hex(binary):\n",
    "    mp = {\"0000\": '0',\n",
    "          \"0001\": '1',\n",
    "          \"0010\": '2',\n",
    "          \"0011\": '3',\n",
    "          \"0100\": '4',\n",
    "          \"0101\": '5',\n",
    "          \"0110\": '6',\n",
    "          \"0111\": '7',\n",
    "          \"1000\": '8',\n",
    "          \"1001\": '9',\n",
    "          \"1010\": 'A',\n",
    "          \"1011\": 'B',\n",
    "          \"1100\": 'C',\n",
    "          \"1101\": 'D',\n",
    "          \"1110\": 'E',\n",
    "          \"1111\": 'F'}\n",
    "    hex = \"\"\n",
    "    for i in range(0, len(binary), 4):\n",
    "        ch = \"\"\n",
    "        ch = ch + binary[i]\n",
    "        ch = ch + binary[i + 1]\n",
    "        ch = ch + binary[i + 2]\n",
    "        ch = ch + binary[i + 3]\n",
    "        hex = hex + mp[ch]\n",
    "\n",
    "    return hex\n",
    "# Binary to decimal conversion\n",
    "def bin2dec(binary):\n",
    "    binary1 = binary\n",
    "    decimal, i, n = 0, 0, 0\n",
    "    while (binary != 0):\n",
    "        dec = binary % 10\n",
    "        decimal = decimal + dec * pow(2, i)\n",
    "        binary = binary // 10\n",
    "        i += 1\n",
    "    return decimal\n",
    "# Decimal to binary conversion\n",
    "def dec2bin(num):\n",
    "    res = bin(num).replace(\"0b\", \"\")\n",
    "    if (len(res) % 4 != 0):\n",
    "        div = len(res) / 4\n",
    "        div = int(div)\n",
    "        counter = (4 * (div + 1)) - len(res)\n",
    "        for i in range(0, counter):\n",
    "            res = '0' + res\n",
    "    return res\n",
    "\n",
    "# Permute function to rearrange the bits\n",
    "def permute(bit_str, arr_rule):\n",
    "    permutation = \"\"\n",
    "    for i in range(0, len(arr_rule)):\n",
    "        permutation = permutation + bit_str[arr_rule[i] - 1]\n",
    "    return permutation\n",
    "\n",
    "# shifting the bits towards left by nth shifts\n",
    "def shift_left(bit_str, nth_shifts):\n",
    "    s = \"\"\n",
    "    for i in range(nth_shifts):\n",
    "        for j in range(1, len(bit_str)):\n",
    "            s = s + bit_str[j]\n",
    "        s = s + bit_str[0]\n",
    "        bit_str = s\n",
    "        s = \"\"\n",
    "    return bit_str\n",
    "\n",
    "# calculating xow of two strings of binary number a and b\n",
    "def xor(a, b):\n",
    "    ans = \"\"\n",
    "    for i in range(len(a)):\n",
    "        if a[i] == b[i]:\n",
    "            ans = ans + \"0\"\n",
    "        else:\n",
    "            ans = ans + \"1\"\n",
    "    return ans"
   ]
  },
  {
   "cell_type": "code",
   "execution_count": 1,
   "metadata": {},
   "outputs": [
    {
     "data": {
      "text/html": [
       "<img src=\"https://viblo.asia/uploads/7f101e14-d1d0-4e0c-a2ec-57437511fc26.png\"/>"
      ],
      "text/plain": [
       "<IPython.core.display.Image object>"
      ]
     },
     "execution_count": 1,
     "metadata": {},
     "output_type": "execute_result"
    }
   ],
   "source": [
    "from IPython.display import Image\n",
    "from IPython.core.display import HTML \n",
    "Image(url= \"https://viblo.asia/uploads/7f101e14-d1d0-4e0c-a2ec-57437511fc26.png\")"
   ]
  },
  {
   "cell_type": "code",
   "execution_count": 2,
   "metadata": {},
   "outputs": [
    {
     "data": {
      "text/html": [
       "<img src=\"https://viblo.asia/uploads/f5d6abfa-7044-43e2-85be-232c9b72b3eb.png\"/>"
      ],
      "text/plain": [
       "<IPython.core.display.Image object>"
      ]
     },
     "execution_count": 2,
     "metadata": {},
     "output_type": "execute_result"
    }
   ],
   "source": [
    "Image(url= \"https://viblo.asia/uploads/f5d6abfa-7044-43e2-85be-232c9b72b3eb.png\")"
   ]
  },
  {
   "cell_type": "code",
   "execution_count": 3,
   "metadata": {},
   "outputs": [],
   "source": [
    "#in:64bit, out:array[16][48]\n",
    "def generate_key(key_str):\n",
    "    key_str = permute(hex2bin(key_str), PC_1)\n",
    "    left_key = key_str[0:28]\n",
    "    right_key = key_str[28:56]\n",
    "    all_round_key = []\n",
    "    for i in range(0, 16):\n",
    "        left_key = shift_left(left_key, shift_table[i])\n",
    "        right_key = shift_left(right_key, shift_table[i])\n",
    "        round_i_key = permute(left_key + right_key, PC_2)\n",
    "        all_round_key.append(round_i_key)\n",
    "    return all_round_key"
   ]
  },
  {
   "cell_type": "code",
   "execution_count": 3,
   "metadata": {},
   "outputs": [
    {
     "data": {
      "text/html": [
       "<img src=\"https://viblo.asia/uploads/b8c30818-eec2-432c-9875-5953eedb837d.png\"/>"
      ],
      "text/plain": [
       "<IPython.core.display.Image object>"
      ]
     },
     "execution_count": 3,
     "metadata": {},
     "output_type": "execute_result"
    }
   ],
   "source": [
    "Image(url= \"https://viblo.asia/uploads/b8c30818-eec2-432c-9875-5953eedb837d.png\")"
   ]
  },
  {
   "cell_type": "code",
   "execution_count": 7,
   "metadata": {},
   "outputs": [],
   "source": [
    "def process(plain_str, all_round_key):\n",
    "    plain_str = permute(hex2bin(plain_str), init_P)\n",
    "    left_str = plain_str[0:32]\n",
    "    right_str = plain_str[32:64]\n",
    "    for i in range(0,16):\n",
    "        right_str= xor(left_str, F_function(right_str, all_round_key[i]))\n",
    "        left_str, right_str = right_str, left_str\n",
    "    cipher_text = permute(right_str + left_str, final_P)\n",
    "    return cipher_text"
   ]
  },
  {
   "cell_type": "code",
   "execution_count": 4,
   "metadata": {},
   "outputs": [
    {
     "data": {
      "text/html": [
       "<img src=\"https://viblo.asia/uploads/3ce300fc-19e1-4400-97a5-bc132b5ef3cc.png\"/>"
      ],
      "text/plain": [
       "<IPython.core.display.Image object>"
      ]
     },
     "execution_count": 4,
     "metadata": {},
     "output_type": "execute_result"
    }
   ],
   "source": [
    "Image(url= \"https://viblo.asia/uploads/3ce300fc-19e1-4400-97a5-bc132b5ef3cc.png\")"
   ]
  },
  {
   "cell_type": "code",
   "execution_count": 5,
   "metadata": {},
   "outputs": [
    {
     "data": {
      "text/html": [
       "<img src=\"https://viblo.asia/uploads/05eff765-64d1-44bf-a0a1-1cac67dd124a.png\"/>"
      ],
      "text/plain": [
       "<IPython.core.display.Image object>"
      ]
     },
     "execution_count": 5,
     "metadata": {},
     "output_type": "execute_result"
    }
   ],
   "source": [
    "Image(url= \"https://viblo.asia/uploads/05eff765-64d1-44bf-a0a1-1cac67dd124a.png\")"
   ]
  },
  {
   "cell_type": "code",
   "execution_count": 6,
   "metadata": {},
   "outputs": [],
   "source": [
    "def F_function(right_str, key_str):\n",
    "\n",
    "    right_expanded = permute(right_str, exp_D)\n",
    "\n",
    "    xor_rlt = xor(right_expanded, key_str)\n",
    "\n",
    "    result = \"\"\n",
    "    for j in range(0, 8):\n",
    "        s_round = j * 6\n",
    "        row = bin2dec(int(xor_rlt[s_round] +\n",
    "                          xor_rlt[s_round + 5]))\n",
    "        col = bin2dec(int(xor_rlt[s_round + 1] +\n",
    "                          xor_rlt[s_round + 2] +\n",
    "                          xor_rlt[s_round + 3] +\n",
    "                          xor_rlt[s_round + 4]))\n",
    "        val_dec = s_boxes[j][row][col]\n",
    "        result = result + dec2bin(val_dec)\n",
    "    result = permute(result, P)\n",
    "    return result"
   ]
  },
  {
   "cell_type": "code",
   "execution_count": null,
   "metadata": {},
   "outputs": [],
   "source": []
  },
  {
   "cell_type": "code",
   "execution_count": 8,
   "metadata": {},
   "outputs": [],
   "source": [
    "#in: 64bit, 64bit\n",
    "plain_text = \"123456ABCD132536\"\n",
    "key = \"AABB09182736CCDD\"\n",
    "\n",
    "def DES_encrypt(plain_hex, key_hex):\n",
    "    key_bin = generate_key(key_hex) #array[16][48]\n",
    "    cipher_text = bin2hex(process(plain_hex, key_bin))\n",
    "    print(\"Cipher Text : \", cipher_text)\n",
    "    return cipher_text"
   ]
  },
  {
   "cell_type": "code",
   "execution_count": 9,
   "metadata": {},
   "outputs": [
    {
     "name": "stdout",
     "output_type": "stream",
     "text": [
      "Cipher Text :  7B9A963579FD9A45\n"
     ]
    },
    {
     "data": {
      "text/plain": [
       "'7B9A963579FD9A45'"
      ]
     },
     "execution_count": 9,
     "metadata": {},
     "output_type": "execute_result"
    }
   ],
   "source": [
    "DES_encrypt(plain_text, key)"
   ]
  }
 ],
 "metadata": {
  "kernelspec": {
   "display_name": "Python 3",
   "language": "python",
   "name": "python3"
  },
  "language_info": {
   "codemirror_mode": {
    "name": "ipython",
    "version": 3
   },
   "file_extension": ".py",
   "mimetype": "text/x-python",
   "name": "python",
   "nbconvert_exporter": "python",
   "pygments_lexer": "ipython3",
   "version": "3.8.4rc1"
  }
 },
 "nbformat": 4,
 "nbformat_minor": 4
}
